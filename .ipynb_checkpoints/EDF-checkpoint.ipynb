{
 "cells": [
  {
   "cell_type": "code",
   "execution_count": 1,
   "metadata": {},
   "outputs": [],
   "source": [
    "import sys\n",
    "import numpy as np\n",
    "import pandas as pd\n",
    "import matplotlib.pyplot as plt\n",
    "from matplotlib.patches import Rectangle\n",
    "import matplotlib.patches as mpatches\n",
    "import random"
   ]
  },
  {
   "cell_type": "code",
   "execution_count": 2,
   "metadata": {},
   "outputs": [],
   "source": [
    "filename = \"tasks\"\n",
    "file = open(filename,\"r\")\n",
    "lines = file.readlines()\n",
    "n = int(lines[0])\n",
    "if n < 1:\n",
    "    print(\"Invalid number of tasks\")"
   ]
  },
  {
   "cell_type": "code",
   "execution_count": 3,
   "metadata": {},
   "outputs": [
    {
     "name": "stdout",
     "output_type": "stream",
     "text": [
      "[[1, 1, 3, 3, 0], [2, 1, 5, 5, 0], [3, 2, 6, 6, 0]]\n"
     ]
    }
   ],
   "source": [
    "tasks = [[] for _ in range(n)]\n",
    "u = 0\n",
    "lcm = 1\n",
    "for i in range(1,len(lines)):\n",
    "    if tasks[-1] != [] :\n",
    "        print(\"More than \"+str(n)+\" tasks\")\n",
    "        exit()\n",
    "    tasks[i-1] = [i]\n",
    "    tasks[i-1] +=[int(el) for el in lines[i].split(',') ]\n",
    "\n",
    "    u += float(tasks[i-1][1]/tasks[i-1][2])\n",
    "    lcm = np.lcm(lcm,tasks[i-1][2])\n",
    "if tasks[-1] == []:\n",
    "    print(\"Less than \"+str(n)+\" tasks\")\n",
    "print(tasks)"
   ]
  },
  {
   "cell_type": "code",
   "execution_count": 4,
   "metadata": {},
   "outputs": [
    {
     "name": "stdout",
     "output_type": "stream",
     "text": [
      "Utilization:  0.8666666666666667\n",
      "LCM:  30\n"
     ]
    }
   ],
   "source": [
    "\n",
    "print('Utilization: ',u)\n",
    "if u > 1:\n",
    "    print(\"Not schedulable by EDF\")\n",
    "\n",
    "print(\"LCM: \",lcm)\n",
    "\n"
   ]
  },
  {
   "cell_type": "code",
   "execution_count": 5,
   "metadata": {},
   "outputs": [],
   "source": [
    "current = [[]for _ in range(n)]\n",
    "for i in range(n):\n",
    "    current[i] = [i+1]\n",
    "    # Current keeps track of tasks to be executed\n",
    "    # Current[i][0] = index, Current[i][1] = arrival time, Current[i][2] = time remaining, Current[i][3] = Deadline, Current[i][4] = Next arrival\n",
    "    current[i] += [tasks[i][4],tasks[i][1],tasks[i][4]+tasks[i][3]]\n",
    "\n",
    "time = 0\n",
    "gantt = []\n",
    "while time < lcm:\n",
    "    sched = None\n",
    "    dead = None\n",
    "    for task in current:\n",
    "        if task[1] <= time:\n",
    "            if sched == None:\n",
    "                sched = task[0]\n",
    "                dead = task[3]\n",
    "            elif task[3] < dead:\n",
    "                sched = task[0]\n",
    "                dead = task[3]\n",
    "    if sched == None:\n",
    "        gantt.append([time,\"Idle\"])\n",
    "    else:\n",
    "        gantt.append([time,\"Task \"+str(sched)])\n",
    "        current[sched-1][2]-=1\n",
    "        if current[sched-1][2] == 0:\n",
    "            current[sched-1][1] += tasks[sched-1][2]\n",
    "            current[sched-1][2] = tasks[sched-1][1]\n",
    "            current[sched-1][3] = current[sched-1][1] + tasks[sched-1][3]\n",
    "    time +=1\n"
   ]
  },
  {
   "cell_type": "code",
   "execution_count": 6,
   "metadata": {},
   "outputs": [
    {
     "data": {
      "image/png": "[encoded data removed]",
      "text/plain": [
       "<Figure size 648x201.6 with 1 Axes>"
      ]
     },
     "metadata": {
      "needs_background": "light"
     },
     "output_type": "display_data"
    }
   ],
   "source": [
    "# Colors for plotting\n",
    "seen = set()\n",
    "colors = {}\n",
    "for i in range(n):\n",
    "    color = (random.random(),random.random(),random.random())\n",
    "    while color in seen:\n",
    "        color = (random.random(),random.random(),random.random())\n",
    "    seen.add(color)\n",
    "    colors[\"Task \"+str(i+1)] = color\n",
    "\n",
    "plt.rcParams['figure.figsize'] = [(0.3)*lcm,2.8]\n",
    "fig, ax = plt.subplots()\n",
    "plt.axhline(y=0.5,linewidth=2)\n",
    "for entry in gantt:\n",
    "    if entry[1] != \"Idle\": \n",
    "        ax.add_patch(Rectangle((entry[0],0.5),1,0.1,color = colors[entry[1]]))\n",
    "plt.xticks(ticks = range(lcm),labels = range(lcm))\n",
    "plt.yticks([])\n",
    "plt.grid(axis='x',alpha=1)\n",
    "\n",
    "legend = []\n",
    "for i in range(n):\n",
    "    task = 'Task '+str(i+1)\n",
    "    entry = mpatches.Patch(color = colors[task],label= task)\n",
    "    legend.append(entry)\n",
    "ax.set_ylim([0.45,0.8])\n",
    "plt.legend(handles = legend)\n",
    "plt.show()"
   ]
  },
  {
   "cell_type": "code",
   "execution_count": null,
   "metadata": {},
   "outputs": [],
   "source": []
  }
 ],
 "metadata": {
  "kernelspec": {
   "display_name": "Python 3",
   "language": "python",
   "name": "python3"
  },
  "language_info": {
   "codemirror_mode": {
    "name": "ipython",
    "version": 3
   },
   "file_extension": ".py",
   "mimetype": "text/x-python",
   "name": "python",
   "nbconvert_exporter": "python",
   "pygments_lexer": "ipython3",
   "version": "3.8.10"
  }
 },
 "nbformat": 4,
 "nbformat_minor": 4
}
